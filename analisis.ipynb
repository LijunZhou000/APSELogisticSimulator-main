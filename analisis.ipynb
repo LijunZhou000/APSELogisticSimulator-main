{
 "cells": [
  {
   "cell_type": "code",
   "execution_count": 1,
   "metadata": {},
   "outputs": [],
   "source": [
    "import pandas as pd\n",
    "import numpy as np"
   ]
  },
  {
   "cell_type": "code",
   "execution_count": 2,
   "metadata": {},
   "outputs": [],
   "source": [
    "events=pd.read_json(\"simulation.jsonlines\", orient=\"records\",lines=True)\n",
    "planes=pd.read_json(\"plans.jsonlines\", orient=\"records\",lines=True)"
   ]
  },
  {
   "cell_type": "code",
   "execution_count": 3,
   "metadata": {},
   "outputs": [
    {
     "data": {
      "text/html": [
       "<div>\n",
       "<style scoped>\n",
       "    .dataframe tbody tr th:only-of-type {\n",
       "        vertical-align: middle;\n",
       "    }\n",
       "\n",
       "    .dataframe tbody tr th {\n",
       "        vertical-align: top;\n",
       "    }\n",
       "\n",
       "    .dataframe thead th {\n",
       "        text-align: right;\n",
       "    }\n",
       "</style>\n",
       "<table border=\"1\" class=\"dataframe\">\n",
       "  <thead>\n",
       "    <tr style=\"text-align: right;\">\n",
       "      <th></th>\n",
       "      <th>eventDescription</th>\n",
       "      <th>eventTime</th>\n",
       "      <th>eventType</th>\n",
       "      <th>simulationId</th>\n",
       "      <th>truckId</th>\n",
       "    </tr>\n",
       "  </thead>\n",
       "  <tbody>\n",
       "    <tr>\n",
       "      <th>0</th>\n",
       "      <td>(plaza del Dos de Mayo, 6, Madrid, [-3.7041862...</td>\n",
       "      <td>5760</td>\n",
       "      <td>Truck departed</td>\n",
       "      <td>a2bfd344-3b14-462a-82e7-d42aca54a650</td>\n",
       "      <td>1669HSZ</td>\n",
       "    </tr>\n",
       "    <tr>\n",
       "      <th>1</th>\n",
       "      <td>(plaza del Dos de Mayo, 6, Madrid, [-3.7041862...</td>\n",
       "      <td>5730</td>\n",
       "      <td>Truck departed</td>\n",
       "      <td>a2bfd344-3b14-462a-82e7-d42aca54a650</td>\n",
       "      <td>8809GPH</td>\n",
       "    </tr>\n",
       "    <tr>\n",
       "      <th>2</th>\n",
       "      <td>(plaza del Dos de Mayo, 6, Madrid, [-3.7041862...</td>\n",
       "      <td>5730</td>\n",
       "      <td>Truck departed</td>\n",
       "      <td>a2bfd344-3b14-462a-82e7-d42aca54a650</td>\n",
       "      <td>1161GJN</td>\n",
       "    </tr>\n",
       "    <tr>\n",
       "      <th>3</th>\n",
       "      <td>(plaza del Dos de Mayo, 6, Madrid, [-3.7041862...</td>\n",
       "      <td>5430</td>\n",
       "      <td>Truck departed</td>\n",
       "      <td>a2bfd344-3b14-462a-82e7-d42aca54a650</td>\n",
       "      <td>3321FBL</td>\n",
       "    </tr>\n",
       "    <tr>\n",
       "      <th>4</th>\n",
       "      <td>(plaza del Dos de Mayo, 6, Madrid, [-3.7041862...</td>\n",
       "      <td>5310</td>\n",
       "      <td>Truck departed</td>\n",
       "      <td>a2bfd344-3b14-462a-82e7-d42aca54a650</td>\n",
       "      <td>2423VRT</td>\n",
       "    </tr>\n",
       "    <tr>\n",
       "      <th>...</th>\n",
       "      <td>...</td>\n",
       "      <td>...</td>\n",
       "      <td>...</td>\n",
       "      <td>...</td>\n",
       "      <td>...</td>\n",
       "    </tr>\n",
       "    <tr>\n",
       "      <th>26577</th>\n",
       "      <td>(calle de Juan de Austria, 1, Madrid, [-3.6991...</td>\n",
       "      <td>11562780</td>\n",
       "      <td>Truck arrived</td>\n",
       "      <td>f0f90050-5a0f-4965-864e-d6bc0d02b5a0</td>\n",
       "      <td>8386WZB</td>\n",
       "    </tr>\n",
       "    <tr>\n",
       "      <th>26578</th>\n",
       "      <td>Packet 83 to (calle de Juan de Austria, 1, Mad...</td>\n",
       "      <td>11623380</td>\n",
       "      <td>Truck ended delivering</td>\n",
       "      <td>f0f90050-5a0f-4965-864e-d6bc0d02b5a0</td>\n",
       "      <td>8386WZB</td>\n",
       "    </tr>\n",
       "    <tr>\n",
       "      <th>26579</th>\n",
       "      <td>(plaza del Dos de Mayo, 6, Madrid, [-3.7041862...</td>\n",
       "      <td>11623470</td>\n",
       "      <td>Truck departed to depot</td>\n",
       "      <td>f0f90050-5a0f-4965-864e-d6bc0d02b5a0</td>\n",
       "      <td>8386WZB</td>\n",
       "    </tr>\n",
       "    <tr>\n",
       "      <th>26580</th>\n",
       "      <td></td>\n",
       "      <td>11813550</td>\n",
       "      <td>Truck ended route</td>\n",
       "      <td>f0f90050-5a0f-4965-864e-d6bc0d02b5a0</td>\n",
       "      <td>8386WZB</td>\n",
       "    </tr>\n",
       "    <tr>\n",
       "      <th>26581</th>\n",
       "      <td></td>\n",
       "      <td>12553080</td>\n",
       "      <td>Truck ended route</td>\n",
       "      <td>f0f90050-5a0f-4965-864e-d6bc0d02b5a0</td>\n",
       "      <td>5030LXK</td>\n",
       "    </tr>\n",
       "  </tbody>\n",
       "</table>\n",
       "<p>26582 rows × 5 columns</p>\n",
       "</div>"
      ],
      "text/plain": [
       "                                        eventDescription  eventTime  \\\n",
       "0      (plaza del Dos de Mayo, 6, Madrid, [-3.7041862...       5760   \n",
       "1      (plaza del Dos de Mayo, 6, Madrid, [-3.7041862...       5730   \n",
       "2      (plaza del Dos de Mayo, 6, Madrid, [-3.7041862...       5730   \n",
       "3      (plaza del Dos de Mayo, 6, Madrid, [-3.7041862...       5430   \n",
       "4      (plaza del Dos de Mayo, 6, Madrid, [-3.7041862...       5310   \n",
       "...                                                  ...        ...   \n",
       "26577  (calle de Juan de Austria, 1, Madrid, [-3.6991...   11562780   \n",
       "26578  Packet 83 to (calle de Juan de Austria, 1, Mad...   11623380   \n",
       "26579  (plaza del Dos de Mayo, 6, Madrid, [-3.7041862...   11623470   \n",
       "26580                                                      11813550   \n",
       "26581                                                      12553080   \n",
       "\n",
       "                     eventType                          simulationId  truckId  \n",
       "0               Truck departed  a2bfd344-3b14-462a-82e7-d42aca54a650  1669HSZ  \n",
       "1               Truck departed  a2bfd344-3b14-462a-82e7-d42aca54a650  8809GPH  \n",
       "2               Truck departed  a2bfd344-3b14-462a-82e7-d42aca54a650  1161GJN  \n",
       "3               Truck departed  a2bfd344-3b14-462a-82e7-d42aca54a650  3321FBL  \n",
       "4               Truck departed  a2bfd344-3b14-462a-82e7-d42aca54a650  2423VRT  \n",
       "...                        ...                                   ...      ...  \n",
       "26577            Truck arrived  f0f90050-5a0f-4965-864e-d6bc0d02b5a0  8386WZB  \n",
       "26578   Truck ended delivering  f0f90050-5a0f-4965-864e-d6bc0d02b5a0  8386WZB  \n",
       "26579  Truck departed to depot  f0f90050-5a0f-4965-864e-d6bc0d02b5a0  8386WZB  \n",
       "26580        Truck ended route  f0f90050-5a0f-4965-864e-d6bc0d02b5a0  8386WZB  \n",
       "26581        Truck ended route  f0f90050-5a0f-4965-864e-d6bc0d02b5a0  5030LXK  \n",
       "\n",
       "[26582 rows x 5 columns]"
      ]
     },
     "execution_count": 3,
     "metadata": {},
     "output_type": "execute_result"
    }
   ],
   "source": [
    "events"
   ]
  },
  {
   "cell_type": "code",
   "execution_count": 4,
   "metadata": {},
   "outputs": [
    {
     "name": "stdout",
     "output_type": "stream",
     "text": [
      "<class 'pandas.core.frame.DataFrame'>\n",
      "RangeIndex: 26582 entries, 0 to 26581\n",
      "Data columns (total 5 columns):\n",
      " #   Column            Non-Null Count  Dtype \n",
      "---  ------            --------------  ----- \n",
      " 0   eventDescription  26582 non-null  object\n",
      " 1   eventTime         26582 non-null  int64 \n",
      " 2   eventType         26582 non-null  object\n",
      " 3   simulationId      26582 non-null  object\n",
      " 4   truckId           26582 non-null  object\n",
      "dtypes: int64(1), object(4)\n",
      "memory usage: 1.0+ MB\n"
     ]
    }
   ],
   "source": [
    "events.info()"
   ]
  },
  {
   "cell_type": "code",
   "execution_count": 5,
   "metadata": {},
   "outputs": [
    {
     "data": {
      "text/html": [
       "<div>\n",
       "<style scoped>\n",
       "    .dataframe tbody tr th:only-of-type {\n",
       "        vertical-align: middle;\n",
       "    }\n",
       "\n",
       "    .dataframe tbody tr th {\n",
       "        vertical-align: top;\n",
       "    }\n",
       "\n",
       "    .dataframe thead th {\n",
       "        text-align: right;\n",
       "    }\n",
       "</style>\n",
       "<table border=\"1\" class=\"dataframe\">\n",
       "  <thead>\n",
       "    <tr style=\"text-align: right;\">\n",
       "      <th></th>\n",
       "      <th>items</th>\n",
       "      <th>simulationId</th>\n",
       "      <th>trucks</th>\n",
       "    </tr>\n",
       "  </thead>\n",
       "  <tbody>\n",
       "    <tr>\n",
       "      <th>0</th>\n",
       "      <td>[{'itemId': '0', 'locationId': '326ae8dc7810de...</td>\n",
       "      <td>a2bfd344-3b14-462a-82e7-d42aca54a650</td>\n",
       "      <td>[{'items': ['23', '24', '4', '25', '26', '27',...</td>\n",
       "    </tr>\n",
       "    <tr>\n",
       "      <th>1</th>\n",
       "      <td>[{'itemId': '0', 'locationId': '271c4e156a04e8...</td>\n",
       "      <td>a8a11526-6b9b-4143-bfb1-ffcae600a17e</td>\n",
       "      <td>[{'items': ['62', '63', '69', '70', '71', '21'...</td>\n",
       "    </tr>\n",
       "    <tr>\n",
       "      <th>2</th>\n",
       "      <td>[{'itemId': '0', 'locationId': '6aa95e84c67637...</td>\n",
       "      <td>2f956e3a-25df-4c5e-bb50-92d92dc9ba00</td>\n",
       "      <td>[{'items': ['79', '20', '21', '5', '76', '59',...</td>\n",
       "    </tr>\n",
       "    <tr>\n",
       "      <th>3</th>\n",
       "      <td>[{'itemId': '0', 'locationId': '0078f3bf6db092...</td>\n",
       "      <td>45c9a42a-7cb5-4266-b0aa-a05b3f446390</td>\n",
       "      <td>[{'items': ['3', '4', '5', '6', '72', '11', '1...</td>\n",
       "    </tr>\n",
       "    <tr>\n",
       "      <th>4</th>\n",
       "      <td>[{'itemId': '0', 'locationId': '92e059821c9ca8...</td>\n",
       "      <td>864bd9f3-074d-45e8-a032-5a01237ae290</td>\n",
       "      <td>[{'items': ['77', '78', '79', '16', '17', '91'...</td>\n",
       "    </tr>\n",
       "    <tr>\n",
       "      <th>...</th>\n",
       "      <td>...</td>\n",
       "      <td>...</td>\n",
       "      <td>...</td>\n",
       "    </tr>\n",
       "    <tr>\n",
       "      <th>94</th>\n",
       "      <td>[{'itemId': '0', 'locationId': '281ec8ac82cccd...</td>\n",
       "      <td>81acb266-ab82-497b-92d9-fae490cc4823</td>\n",
       "      <td>[{'items': ['36', '37', '49', '6', '7', '8', '...</td>\n",
       "    </tr>\n",
       "    <tr>\n",
       "      <th>95</th>\n",
       "      <td>[{'itemId': '0', 'locationId': '950001b613cb58...</td>\n",
       "      <td>f007019f-866d-48be-a0cb-bd96328ee43b</td>\n",
       "      <td>[{'items': ['46', '47', '48', '49', '40', '24'...</td>\n",
       "    </tr>\n",
       "    <tr>\n",
       "      <th>96</th>\n",
       "      <td>[{'itemId': '0', 'locationId': 'b40599012e4fba...</td>\n",
       "      <td>f0f90050-5a0f-4965-864e-d6bc0d02b5a0</td>\n",
       "      <td>[{'items': ['16', '17', '42', '43', '44', '45'...</td>\n",
       "    </tr>\n",
       "    <tr>\n",
       "      <th>97</th>\n",
       "      <td>[{'itemId': '0', 'locationId': '074dc13529fd8b...</td>\n",
       "      <td>e33505ca-bfdb-496f-bcfd-b8b913a42637</td>\n",
       "      <td>[{'items': ['62', '63', '64', '86', '10', '11'...</td>\n",
       "    </tr>\n",
       "    <tr>\n",
       "      <th>98</th>\n",
       "      <td>[{'itemId': '0', 'locationId': 'd1214b27823e6d...</td>\n",
       "      <td>6deec7b7-6c11-418c-a1bd-f99a9e3261b6</td>\n",
       "      <td>[{'items': ['53', '54', '55', '83', '84', '85'...</td>\n",
       "    </tr>\n",
       "  </tbody>\n",
       "</table>\n",
       "<p>99 rows × 3 columns</p>\n",
       "</div>"
      ],
      "text/plain": [
       "                                                items  \\\n",
       "0   [{'itemId': '0', 'locationId': '326ae8dc7810de...   \n",
       "1   [{'itemId': '0', 'locationId': '271c4e156a04e8...   \n",
       "2   [{'itemId': '0', 'locationId': '6aa95e84c67637...   \n",
       "3   [{'itemId': '0', 'locationId': '0078f3bf6db092...   \n",
       "4   [{'itemId': '0', 'locationId': '92e059821c9ca8...   \n",
       "..                                                ...   \n",
       "94  [{'itemId': '0', 'locationId': '281ec8ac82cccd...   \n",
       "95  [{'itemId': '0', 'locationId': '950001b613cb58...   \n",
       "96  [{'itemId': '0', 'locationId': 'b40599012e4fba...   \n",
       "97  [{'itemId': '0', 'locationId': '074dc13529fd8b...   \n",
       "98  [{'itemId': '0', 'locationId': 'd1214b27823e6d...   \n",
       "\n",
       "                            simulationId  \\\n",
       "0   a2bfd344-3b14-462a-82e7-d42aca54a650   \n",
       "1   a8a11526-6b9b-4143-bfb1-ffcae600a17e   \n",
       "2   2f956e3a-25df-4c5e-bb50-92d92dc9ba00   \n",
       "3   45c9a42a-7cb5-4266-b0aa-a05b3f446390   \n",
       "4   864bd9f3-074d-45e8-a032-5a01237ae290   \n",
       "..                                   ...   \n",
       "94  81acb266-ab82-497b-92d9-fae490cc4823   \n",
       "95  f007019f-866d-48be-a0cb-bd96328ee43b   \n",
       "96  f0f90050-5a0f-4965-864e-d6bc0d02b5a0   \n",
       "97  e33505ca-bfdb-496f-bcfd-b8b913a42637   \n",
       "98  6deec7b7-6c11-418c-a1bd-f99a9e3261b6   \n",
       "\n",
       "                                               trucks  \n",
       "0   [{'items': ['23', '24', '4', '25', '26', '27',...  \n",
       "1   [{'items': ['62', '63', '69', '70', '71', '21'...  \n",
       "2   [{'items': ['79', '20', '21', '5', '76', '59',...  \n",
       "3   [{'items': ['3', '4', '5', '6', '72', '11', '1...  \n",
       "4   [{'items': ['77', '78', '79', '16', '17', '91'...  \n",
       "..                                                ...  \n",
       "94  [{'items': ['36', '37', '49', '6', '7', '8', '...  \n",
       "95  [{'items': ['46', '47', '48', '49', '40', '24'...  \n",
       "96  [{'items': ['16', '17', '42', '43', '44', '45'...  \n",
       "97  [{'items': ['62', '63', '64', '86', '10', '11'...  \n",
       "98  [{'items': ['53', '54', '55', '83', '84', '85'...  \n",
       "\n",
       "[99 rows x 3 columns]"
      ]
     },
     "execution_count": 5,
     "metadata": {},
     "output_type": "execute_result"
    }
   ],
   "source": [
    "planes"
   ]
  },
  {
   "cell_type": "code",
   "execution_count": 6,
   "metadata": {},
   "outputs": [
    {
     "name": "stdout",
     "output_type": "stream",
     "text": [
      "<class 'pandas.core.frame.DataFrame'>\n",
      "RangeIndex: 99 entries, 0 to 98\n",
      "Data columns (total 3 columns):\n",
      " #   Column        Non-Null Count  Dtype \n",
      "---  ------        --------------  ----- \n",
      " 0   items         99 non-null     object\n",
      " 1   simulationId  99 non-null     object\n",
      " 2   trucks        99 non-null     object\n",
      "dtypes: object(3)\n",
      "memory usage: 2.4+ KB\n"
     ]
    }
   ],
   "source": [
    "planes.info()"
   ]
  },
  {
   "cell_type": "markdown",
   "metadata": {},
   "source": [
    "# Número de camiones"
   ]
  },
  {
   "cell_type": "code",
   "execution_count": 7,
   "metadata": {},
   "outputs": [
    {
     "data": {
      "text/plain": [
       "array(['1669HSZ', '8809GPH', '1161GJN', '3321FBL', '2423VRT', '5534TPH',\n",
       "       '0265TYL', '0013DYS', '5030LXK', '8386WZB', '3953RLD', '9593DXM',\n",
       "       '0781PZL', '6965XLY', '6270NFM', '8327DZH', '1489WHW', '0184WLX',\n",
       "       '1012GWV'], dtype=object)"
      ]
     },
     "execution_count": 7,
     "metadata": {},
     "output_type": "execute_result"
    }
   ],
   "source": [
    "events.truckId.unique()"
   ]
  },
  {
   "cell_type": "markdown",
   "metadata": {},
   "source": [
    "# Número de localizaciones"
   ]
  },
  {
   "cell_type": "code",
   "execution_count": 8,
   "metadata": {},
   "outputs": [
    {
     "data": {
      "text/plain": [
       "array(['Truck departed', 'Truck initialized', 'Truck received packets',\n",
       "       'Truck arrived', 'Truck started delivering',\n",
       "       'Truck ended delivering', 'Truck departed to depot',\n",
       "       'Truck ended route'], dtype=object)"
      ]
     },
     "execution_count": 8,
     "metadata": {},
     "output_type": "execute_result"
    }
   ],
   "source": [
    "events.eventType.unique()"
   ]
  },
  {
   "cell_type": "code",
   "execution_count": 9,
   "metadata": {},
   "outputs": [
    {
     "data": {
      "text/plain": [
       "1491"
      ]
     },
     "execution_count": 9,
     "metadata": {},
     "output_type": "execute_result"
    }
   ],
   "source": [
    "len(events[events.eventType==\"Truck arrived\"].eventDescription.map(lambda x: x.split(\",\")[0][1:]).unique())"
   ]
  },
  {
   "cell_type": "code",
   "execution_count": null,
   "metadata": {},
   "outputs": [],
   "source": []
  }
 ],
 "metadata": {
  "kernelspec": {
   "display_name": "Python 3",
   "language": "python",
   "name": "python3"
  },
  "language_info": {
   "codemirror_mode": {
    "name": "ipython",
    "version": 3
   },
   "file_extension": ".py",
   "mimetype": "text/x-python",
   "name": "python",
   "nbconvert_exporter": "python",
   "pygments_lexer": "ipython3",
   "version": "3.12.1"
  }
 },
 "nbformat": 4,
 "nbformat_minor": 2
}
