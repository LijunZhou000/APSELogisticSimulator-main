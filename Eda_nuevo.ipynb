{
 "cells": [
  {
   "cell_type": "code",
   "execution_count": 9,
   "metadata": {},
   "outputs": [],
   "source": [
    "import pandas as pd\n",
    "from io import StringIO"
   ]
  },
  {
   "cell_type": "code",
   "execution_count": 17,
   "metadata": {},
   "outputs": [],
   "source": [
    "events=pd.read_json(\"simulation.jsonlines\", orient=\"records\",lines=True)\n",
    "planes=pd.read_json(\"plans.jsonlines\", orient=\"records\",lines=True)"
   ]
  },
  {
   "cell_type": "code",
   "execution_count": 140,
   "metadata": {},
   "outputs": [
    {
     "data": {
      "text/plain": [
       "<bound method DataFrame.items of                                                 items  \\\n",
       "0   {'itemId': '0', 'locationId': '326ae8dc7810de9...   \n",
       "0   {'itemId': '1', 'locationId': '326ae8dc7810de9...   \n",
       "0   {'itemId': '2', 'locationId': '326ae8dc7810de9...   \n",
       "0   {'itemId': '3', 'locationId': '326ae8dc7810de9...   \n",
       "0   {'itemId': '4', 'locationId': 'c0430d1e19c34a0...   \n",
       "..                                                ...   \n",
       "98  {'itemId': '93', 'locationId': '4551fdc303a5dd...   \n",
       "98  {'itemId': '94', 'locationId': 'b45cdf0a7ae5d2...   \n",
       "98  {'itemId': '95', 'locationId': '991b9b4aca2773...   \n",
       "98  {'itemId': '96', 'locationId': '991b9b4aca2773...   \n",
       "98  {'itemId': '97', 'locationId': '991b9b4aca2773...   \n",
       "\n",
       "                            simulationId  \\\n",
       "0   a2bfd344-3b14-462a-82e7-d42aca54a650   \n",
       "0   a2bfd344-3b14-462a-82e7-d42aca54a650   \n",
       "0   a2bfd344-3b14-462a-82e7-d42aca54a650   \n",
       "0   a2bfd344-3b14-462a-82e7-d42aca54a650   \n",
       "0   a2bfd344-3b14-462a-82e7-d42aca54a650   \n",
       "..                                   ...   \n",
       "98  6deec7b7-6c11-418c-a1bd-f99a9e3261b6   \n",
       "98  6deec7b7-6c11-418c-a1bd-f99a9e3261b6   \n",
       "98  6deec7b7-6c11-418c-a1bd-f99a9e3261b6   \n",
       "98  6deec7b7-6c11-418c-a1bd-f99a9e3261b6   \n",
       "98  6deec7b7-6c11-418c-a1bd-f99a9e3261b6   \n",
       "\n",
       "                                               trucks  \n",
       "0   [{'items': ['23', '24', '4', '25', '26', '27',...  \n",
       "0   [{'items': ['23', '24', '4', '25', '26', '27',...  \n",
       "0   [{'items': ['23', '24', '4', '25', '26', '27',...  \n",
       "0   [{'items': ['23', '24', '4', '25', '26', '27',...  \n",
       "0   [{'items': ['23', '24', '4', '25', '26', '27',...  \n",
       "..                                                ...  \n",
       "98  [{'items': ['53', '54', '55', '83', '84', '85'...  \n",
       "98  [{'items': ['53', '54', '55', '83', '84', '85'...  \n",
       "98  [{'items': ['53', '54', '55', '83', '84', '85'...  \n",
       "98  [{'items': ['53', '54', '55', '83', '84', '85'...  \n",
       "98  [{'items': ['53', '54', '55', '83', '84', '85'...  \n",
       "\n",
       "[8567 rows x 3 columns]>"
      ]
     },
     "execution_count": 140,
     "metadata": {},
     "output_type": "execute_result"
    }
   ],
   "source": [
    "# Número de camiones\n",
    "events.truckId.unique().size\n",
    "\n",
    "# Número de simulaciones\n",
    "events.simulationId.unique().size\n",
    "\n",
    "# Número de localizaciones\n",
    "planes.explode('items').items"
   ]
  },
  {
   "cell_type": "code",
   "execution_count": null,
   "metadata": {},
   "outputs": [
    {
     "data": {
      "text/html": [
       "<div>\n",
       "<style scoped>\n",
       "    .dataframe tbody tr th:only-of-type {\n",
       "        vertical-align: middle;\n",
       "    }\n",
       "\n",
       "    .dataframe tbody tr th {\n",
       "        vertical-align: top;\n",
       "    }\n",
       "\n",
       "    .dataframe thead th {\n",
       "        text-align: right;\n",
       "    }\n",
       "</style>\n",
       "<table border=\"1\" class=\"dataframe\">\n",
       "  <thead>\n",
       "    <tr style=\"text-align: right;\">\n",
       "      <th></th>\n",
       "      <th>trucks</th>\n",
       "    </tr>\n",
       "  </thead>\n",
       "  <tbody>\n",
       "    <tr>\n",
       "      <th>0</th>\n",
       "      <td>[{'items': ['23', '24', '4', '25', '26', '27',...</td>\n",
       "    </tr>\n",
       "    <tr>\n",
       "      <th>1</th>\n",
       "      <td>[{'items': ['62', '63', '69', '70', '71', '21'...</td>\n",
       "    </tr>\n",
       "    <tr>\n",
       "      <th>2</th>\n",
       "      <td>[{'items': ['79', '20', '21', '5', '76', '59',...</td>\n",
       "    </tr>\n",
       "    <tr>\n",
       "      <th>3</th>\n",
       "      <td>[{'items': ['3', '4', '5', '6', '72', '11', '1...</td>\n",
       "    </tr>\n",
       "    <tr>\n",
       "      <th>4</th>\n",
       "      <td>[{'items': ['77', '78', '79', '16', '17', '91'...</td>\n",
       "    </tr>\n",
       "    <tr>\n",
       "      <th>...</th>\n",
       "      <td>...</td>\n",
       "    </tr>\n",
       "    <tr>\n",
       "      <th>94</th>\n",
       "      <td>[{'items': ['36', '37', '49', '6', '7', '8', '...</td>\n",
       "    </tr>\n",
       "    <tr>\n",
       "      <th>95</th>\n",
       "      <td>[{'items': ['46', '47', '48', '49', '40', '24'...</td>\n",
       "    </tr>\n",
       "    <tr>\n",
       "      <th>96</th>\n",
       "      <td>[{'items': ['16', '17', '42', '43', '44', '45'...</td>\n",
       "    </tr>\n",
       "    <tr>\n",
       "      <th>97</th>\n",
       "      <td>[{'items': ['62', '63', '64', '86', '10', '11'...</td>\n",
       "    </tr>\n",
       "    <tr>\n",
       "      <th>98</th>\n",
       "      <td>[{'items': ['53', '54', '55', '83', '84', '85'...</td>\n",
       "    </tr>\n",
       "  </tbody>\n",
       "</table>\n",
       "<p>99 rows × 1 columns</p>\n",
       "</div>"
      ],
      "text/plain": [
       "                                               trucks\n",
       "0   [{'items': ['23', '24', '4', '25', '26', '27',...\n",
       "1   [{'items': ['62', '63', '69', '70', '71', '21'...\n",
       "2   [{'items': ['79', '20', '21', '5', '76', '59',...\n",
       "3   [{'items': ['3', '4', '5', '6', '72', '11', '1...\n",
       "4   [{'items': ['77', '78', '79', '16', '17', '91'...\n",
       "..                                                ...\n",
       "94  [{'items': ['36', '37', '49', '6', '7', '8', '...\n",
       "95  [{'items': ['46', '47', '48', '49', '40', '24'...\n",
       "96  [{'items': ['16', '17', '42', '43', '44', '45'...\n",
       "97  [{'items': ['62', '63', '64', '86', '10', '11'...\n",
       "98  [{'items': ['53', '54', '55', '83', '84', '85'...\n",
       "\n",
       "[99 rows x 1 columns]"
      ]
     },
     "execution_count": 148,
     "metadata": {},
     "output_type": "execute_result"
    }
   ],
   "source": [
    "# pd.DataFrame(pd.DataFrame(planes.trucks))"
   ]
  }
 ],
 "metadata": {
  "kernelspec": {
   "display_name": "base",
   "language": "python",
   "name": "python3"
  },
  "language_info": {
   "codemirror_mode": {
    "name": "ipython",
    "version": 3
   },
   "file_extension": ".py",
   "mimetype": "text/x-python",
   "name": "python",
   "nbconvert_exporter": "python",
   "pygments_lexer": "ipython3",
   "version": "3.9.13"
  }
 },
 "nbformat": 4,
 "nbformat_minor": 2
}
